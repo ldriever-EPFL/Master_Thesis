{
 "cells": [
  {
   "cell_type": "markdown",
   "metadata": {},
   "source": [
    "# Provides examples for how to use the NN_maker.py file #"
   ]
  },
  {
   "cell_type": "code",
   "execution_count": 2,
   "metadata": {},
   "outputs": [],
   "source": [
    "import numpy as np\n",
    "from NN_maker import FoilModel, tune_model"
   ]
  },
  {
   "cell_type": "code",
   "execution_count": 13,
   "metadata": {},
   "outputs": [],
   "source": [
    "# Generate some sample data\n",
    "# The first couple of columns provide the input value, the last column provides the target value\n",
    "sample_data = np.random.random((580, 3))\n",
    "train_data = sample_data[:500]\n",
    "val_data = sample_data[500 : 530]\n",
    "test_data = sample_data[530:]"
   ]
  },
  {
   "cell_type": "markdown",
   "metadata": {},
   "source": [
    "## Example for FoilModel trained from scratch"
   ]
  },
  {
   "cell_type": "code",
   "execution_count": 14,
   "metadata": {},
   "outputs": [
    {
     "name": "stderr",
     "output_type": "stream",
     "text": [
      "Seed set to 12346790\n",
      "GPU available: True (mps), used: True\n",
      "TPU available: False, using: 0 TPU cores\n",
      "IPU available: False, using: 0 IPUs\n",
      "HPU available: False, using: 0 HPUs\n",
      "\n",
      "  | Name           | Type   | Params\n",
      "------------------------------------------\n",
      "0 | input_layer    | Linear | 24    \n",
      "1 | hidden_layer_1 | Linear | 72    \n",
      "2 | hidden_layer_2 | Linear | 72    \n",
      "3 | hidden_layer_3 | Linear | 72    \n",
      "4 | output_layer   | Linear | 9     \n",
      "------------------------------------------\n",
      "249       Trainable params\n",
      "0         Non-trainable params\n",
      "249       Total params\n",
      "0.001     Total estimated model params size (MB)\n"
     ]
    },
    {
     "name": "stdout",
     "output_type": "stream",
     "text": [
      "                                                                           "
     ]
    },
    {
     "name": "stderr",
     "output_type": "stream",
     "text": [
      "/Users/lxd/Desktop/UTokyo/Work/Code/NN_investigations/Thesis_NN/lib/python3.9/site-packages/pytorch_lightning/trainer/connectors/data_connector.py:441: The 'val_dataloader' does not have many workers which may be a bottleneck. Consider increasing the value of the `num_workers` argument` to `num_workers=7` in the `DataLoader` to improve performance.\n",
      "/Users/lxd/Desktop/UTokyo/Work/Code/NN_investigations/Thesis_NN/lib/python3.9/site-packages/pytorch_lightning/trainer/connectors/data_connector.py:441: The 'train_dataloader' does not have many workers which may be a bottleneck. Consider increasing the value of the `num_workers` argument` to `num_workers=7` in the `DataLoader` to improve performance.\n",
      "/Users/lxd/Desktop/UTokyo/Work/Code/NN_investigations/Thesis_NN/lib/python3.9/site-packages/pytorch_lightning/loops/fit_loop.py:293: The number of training batches (8) is smaller than the logging interval Trainer(log_every_n_steps=50). Set a lower value for log_every_n_steps if you want to see logs for the training epoch.\n"
     ]
    },
    {
     "name": "stdout",
     "output_type": "stream",
     "text": [
      "Epoch 15: 100%|██████████| 8/8 [00:00<00:00, 95.53it/s, v_num=2] \n"
     ]
    }
   ],
   "source": [
    "# Define the model hyperparameters\n",
    "Params = {\n",
    "        \"batch_size\": 64,\n",
    "        \"learning_rate\": 0.01,\n",
    "        \"weight_decay\": 0.00008,\n",
    "        \"layer_size\": 8,\n",
    "        \"num_hidden_layers\": 3,\n",
    "        \"patience\": 10,\n",
    "        \"storage_directory\": None,\n",
    "        \"max_epochs\": 500,\n",
    "        \"seed\": 12346790\n",
    "        }\n",
    "\n",
    "# Train the model\n",
    "scm = FoilModel(train_data, val_data, test_data, Params)\n",
    "\n",
    "# Evaluate the model at a certain point\n",
    "sample_val = scm[0.1, 0.2]"
   ]
  },
  {
   "cell_type": "markdown",
   "metadata": {},
   "source": [
    "## Example for tuning hyperparameters using tune_model"
   ]
  },
  {
   "cell_type": "code",
   "execution_count": 15,
   "metadata": {},
   "outputs": [
    {
     "name": "stderr",
     "output_type": "stream",
     "text": [
      "Seed set to 999\n",
      "GPU available: True (mps), used: True\n",
      "TPU available: False, using: 0 TPU cores\n",
      "IPU available: False, using: 0 IPUs\n",
      "HPU available: False, using: 0 HPUs\n",
      "\n",
      "  | Name           | Type   | Params\n",
      "------------------------------------------\n",
      "0 | input_layer    | Linear | 96    \n",
      "1 | hidden_layer_1 | Linear | 1.1 K \n",
      "2 | hidden_layer_2 | Linear | 1.1 K \n",
      "3 | hidden_layer_3 | Linear | 1.1 K \n",
      "4 | output_layer   | Linear | 33    \n",
      "------------------------------------------\n",
      "3.3 K     Trainable params\n",
      "0         Non-trainable params\n",
      "3.3 K     Total params\n",
      "0.013     Total estimated model params size (MB)\n"
     ]
    },
    {
     "name": "stdout",
     "output_type": "stream",
     "text": [
      "Now handling layer size 32 with 3 layers\n",
      "Epoch 34: 100%|██████████| 8/8 [00:00<00:00, 92.89it/s, v_num=3]           \n",
      "Validation DataLoader 0: 100%|██████████| 1/1 [00:00<00:00, 95.32it/s] \n",
      "────────────────────────────────────────────────────────────────────────────────────────────────────────────────────────\n",
      "     Validate metric           DataLoader 0\n",
      "────────────────────────────────────────────────────────────────────────────────────────────────────────────────────────\n",
      "        val_loss            2.0349438190460205\n",
      "   val_mean_rel_error        0.834686815738678\n",
      "  val_median_rel_error      0.34267041087150574\n",
      "────────────────────────────────────────────────────────────────────────────────────────────────────────────────────────\n"
     ]
    },
    {
     "name": "stderr",
     "output_type": "stream",
     "text": [
      "Seed set to 999\n",
      "GPU available: True (mps), used: True\n",
      "TPU available: False, using: 0 TPU cores\n",
      "IPU available: False, using: 0 IPUs\n",
      "HPU available: False, using: 0 HPUs\n"
     ]
    },
    {
     "name": "stdout",
     "output_type": "stream",
     "text": [
      "Now handling layer size 32 with 4 layers\n"
     ]
    },
    {
     "name": "stderr",
     "output_type": "stream",
     "text": [
      "\n",
      "  | Name           | Type   | Params\n",
      "------------------------------------------\n",
      "0 | input_layer    | Linear | 96    \n",
      "1 | hidden_layer_1 | Linear | 1.1 K \n",
      "2 | hidden_layer_2 | Linear | 1.1 K \n",
      "3 | hidden_layer_3 | Linear | 1.1 K \n",
      "4 | hidden_layer_4 | Linear | 1.1 K \n",
      "5 | output_layer   | Linear | 33    \n",
      "------------------------------------------\n",
      "4.4 K     Trainable params\n",
      "0         Non-trainable params\n",
      "4.4 K     Total params\n",
      "0.017     Total estimated model params size (MB)\n"
     ]
    },
    {
     "name": "stdout",
     "output_type": "stream",
     "text": [
      "Epoch 39: 100%|██████████| 8/8 [00:00<00:00, 73.25it/s, v_num=4]            \n",
      "Validation DataLoader 0: 100%|██████████| 1/1 [00:00<00:00, 94.30it/s] \n",
      "────────────────────────────────────────────────────────────────────────────────────────────────────────────────────────\n",
      "     Validate metric           DataLoader 0\n",
      "────────────────────────────────────────────────────────────────────────────────────────────────────────────────────────\n",
      "        val_loss             2.125424385070801\n",
      "   val_mean_rel_error        0.903645396232605\n",
      "  val_median_rel_error      0.31905969977378845\n",
      "────────────────────────────────────────────────────────────────────────────────────────────────────────────────────────\n"
     ]
    },
    {
     "name": "stderr",
     "output_type": "stream",
     "text": [
      "Seed set to 999\n"
     ]
    },
    {
     "name": "stdout",
     "output_type": "stream",
     "text": [
      "Now handling layer size 32 with 5 layers\n"
     ]
    },
    {
     "name": "stderr",
     "output_type": "stream",
     "text": [
      "GPU available: True (mps), used: True\n",
      "TPU available: False, using: 0 TPU cores\n",
      "IPU available: False, using: 0 IPUs\n",
      "HPU available: False, using: 0 HPUs\n",
      "\n",
      "  | Name           | Type   | Params\n",
      "------------------------------------------\n",
      "0 | input_layer    | Linear | 96    \n",
      "1 | hidden_layer_1 | Linear | 1.1 K \n",
      "2 | hidden_layer_2 | Linear | 1.1 K \n",
      "3 | hidden_layer_3 | Linear | 1.1 K \n",
      "4 | hidden_layer_4 | Linear | 1.1 K \n",
      "5 | hidden_layer_5 | Linear | 1.1 K \n",
      "6 | output_layer   | Linear | 33    \n",
      "------------------------------------------\n",
      "5.4 K     Trainable params\n",
      "0         Non-trainable params\n",
      "5.4 K     Total params\n",
      "0.022     Total estimated model params size (MB)\n"
     ]
    },
    {
     "name": "stdout",
     "output_type": "stream",
     "text": [
      "Epoch 35: 100%|██████████| 8/8 [00:00<00:00, 77.46it/s, v_num=5]            \n",
      "Validation DataLoader 0: 100%|██████████| 1/1 [00:00<00:00, 110.62it/s]\n",
      "────────────────────────────────────────────────────────────────────────────────────────────────────────────────────────\n",
      "     Validate metric           DataLoader 0\n",
      "────────────────────────────────────────────────────────────────────────────────────────────────────────────────────────\n",
      "        val_loss            2.0936026573181152\n",
      "   val_mean_rel_error        0.869951605796814\n",
      "  val_median_rel_error      0.33596816658973694\n",
      "────────────────────────────────────────────────────────────────────────────────────────────────────────────────────────\n"
     ]
    },
    {
     "name": "stderr",
     "output_type": "stream",
     "text": [
      "Seed set to 999\n"
     ]
    },
    {
     "name": "stdout",
     "output_type": "stream",
     "text": [
      "Now handling layer size 64 with 3 layers\n"
     ]
    },
    {
     "name": "stderr",
     "output_type": "stream",
     "text": [
      "GPU available: True (mps), used: True\n",
      "TPU available: False, using: 0 TPU cores\n",
      "IPU available: False, using: 0 IPUs\n",
      "HPU available: False, using: 0 HPUs\n",
      "\n",
      "  | Name           | Type   | Params\n",
      "------------------------------------------\n",
      "0 | input_layer    | Linear | 192   \n",
      "1 | hidden_layer_1 | Linear | 4.2 K \n",
      "2 | hidden_layer_2 | Linear | 4.2 K \n",
      "3 | hidden_layer_3 | Linear | 4.2 K \n",
      "4 | output_layer   | Linear | 65    \n",
      "------------------------------------------\n",
      "12.7 K    Trainable params\n",
      "0         Non-trainable params\n",
      "12.7 K    Total params\n",
      "0.051     Total estimated model params size (MB)\n"
     ]
    },
    {
     "name": "stdout",
     "output_type": "stream",
     "text": [
      "Epoch 33: 100%|██████████| 8/8 [00:00<00:00, 79.96it/s, v_num=6]           \n",
      "Validation DataLoader 0: 100%|██████████| 1/1 [00:00<00:00, 87.03it/s] \n",
      "────────────────────────────────────────────────────────────────────────────────────────────────────────────────────────\n",
      "     Validate metric           DataLoader 0\n",
      "────────────────────────────────────────────────────────────────────────────────────────────────────────────────────────\n",
      "        val_loss             2.346100330352783\n",
      "   val_mean_rel_error       0.9803069829940796\n",
      "  val_median_rel_error      0.29644298553466797\n",
      "────────────────────────────────────────────────────────────────────────────────────────────────────────────────────────\n"
     ]
    },
    {
     "name": "stderr",
     "output_type": "stream",
     "text": [
      "Seed set to 999\n",
      "GPU available: True (mps), used: True\n",
      "TPU available: False, using: 0 TPU cores\n",
      "IPU available: False, using: 0 IPUs\n",
      "HPU available: False, using: 0 HPUs\n"
     ]
    },
    {
     "name": "stdout",
     "output_type": "stream",
     "text": [
      "Now handling layer size 64 with 4 layers\n"
     ]
    },
    {
     "name": "stderr",
     "output_type": "stream",
     "text": [
      "\n",
      "  | Name           | Type   | Params\n",
      "------------------------------------------\n",
      "0 | input_layer    | Linear | 192   \n",
      "1 | hidden_layer_1 | Linear | 4.2 K \n",
      "2 | hidden_layer_2 | Linear | 4.2 K \n",
      "3 | hidden_layer_3 | Linear | 4.2 K \n",
      "4 | hidden_layer_4 | Linear | 4.2 K \n",
      "5 | output_layer   | Linear | 65    \n",
      "------------------------------------------\n",
      "16.9 K    Trainable params\n",
      "0         Non-trainable params\n",
      "16.9 K    Total params\n",
      "0.068     Total estimated model params size (MB)\n"
     ]
    },
    {
     "name": "stdout",
     "output_type": "stream",
     "text": [
      "Epoch 35: 100%|██████████| 8/8 [00:00<00:00, 82.09it/s, v_num=7]           \n",
      "Validation DataLoader 0: 100%|██████████| 1/1 [00:00<00:00, 94.74it/s] \n",
      "────────────────────────────────────────────────────────────────────────────────────────────────────────────────────────\n",
      "     Validate metric           DataLoader 0\n",
      "────────────────────────────────────────────────────────────────────────────────────────────────────────────────────────\n",
      "        val_loss             2.167386770248413\n",
      "   val_mean_rel_error       0.9044716954231262\n",
      "  val_median_rel_error       0.325454980134964\n",
      "────────────────────────────────────────────────────────────────────────────────────────────────────────────────────────\n"
     ]
    },
    {
     "name": "stderr",
     "output_type": "stream",
     "text": [
      "Seed set to 999\n"
     ]
    },
    {
     "name": "stdout",
     "output_type": "stream",
     "text": [
      "Now handling layer size 64 with 5 layers\n"
     ]
    },
    {
     "name": "stderr",
     "output_type": "stream",
     "text": [
      "GPU available: True (mps), used: True\n",
      "TPU available: False, using: 0 TPU cores\n",
      "IPU available: False, using: 0 IPUs\n",
      "HPU available: False, using: 0 HPUs\n",
      "\n",
      "  | Name           | Type   | Params\n",
      "------------------------------------------\n",
      "0 | input_layer    | Linear | 192   \n",
      "1 | hidden_layer_1 | Linear | 4.2 K \n",
      "2 | hidden_layer_2 | Linear | 4.2 K \n",
      "3 | hidden_layer_3 | Linear | 4.2 K \n",
      "4 | hidden_layer_4 | Linear | 4.2 K \n",
      "5 | hidden_layer_5 | Linear | 4.2 K \n",
      "6 | output_layer   | Linear | 65    \n",
      "------------------------------------------\n",
      "21.1 K    Trainable params\n",
      "0         Non-trainable params\n",
      "21.1 K    Total params\n",
      "0.084     Total estimated model params size (MB)\n"
     ]
    },
    {
     "name": "stdout",
     "output_type": "stream",
     "text": [
      "Epoch 36: 100%|██████████| 8/8 [00:00<00:00, 69.73it/s, v_num=8]            \n",
      "Validation DataLoader 0: 100%|██████████| 1/1 [00:00<00:00, 93.19it/s] \n",
      "────────────────────────────────────────────────────────────────────────────────────────────────────────────────────────\n",
      "     Validate metric           DataLoader 0\n",
      "────────────────────────────────────────────────────────────────────────────────────────────────────────────────────────\n",
      "        val_loss            2.5700056552886963\n",
      "   val_mean_rel_error        1.054620623588562\n",
      "  val_median_rel_error      0.29936647415161133\n",
      "────────────────────────────────────────────────────────────────────────────────────────────────────────────────────────\n",
      "Now handling layer size 128 with 3 layers"
     ]
    },
    {
     "name": "stderr",
     "output_type": "stream",
     "text": [
      "Seed set to 999\n"
     ]
    },
    {
     "name": "stdout",
     "output_type": "stream",
     "text": [
      "\n"
     ]
    },
    {
     "name": "stderr",
     "output_type": "stream",
     "text": [
      "GPU available: True (mps), used: True\n",
      "TPU available: False, using: 0 TPU cores\n",
      "IPU available: False, using: 0 IPUs\n",
      "HPU available: False, using: 0 HPUs\n",
      "\n",
      "  | Name           | Type   | Params\n",
      "------------------------------------------\n",
      "0 | input_layer    | Linear | 384   \n",
      "1 | hidden_layer_1 | Linear | 16.5 K\n",
      "2 | hidden_layer_2 | Linear | 16.5 K\n",
      "3 | hidden_layer_3 | Linear | 16.5 K\n",
      "4 | output_layer   | Linear | 129   \n",
      "------------------------------------------\n",
      "50.0 K    Trainable params\n",
      "0         Non-trainable params\n",
      "50.0 K    Total params\n",
      "0.200     Total estimated model params size (MB)\n"
     ]
    },
    {
     "name": "stdout",
     "output_type": "stream",
     "text": [
      "Epoch 33: 100%|██████████| 8/8 [00:00<00:00, 88.77it/s, v_num=9]           \n",
      "Validation DataLoader 0: 100%|██████████| 1/1 [00:00<00:00, 94.10it/s] \n",
      "────────────────────────────────────────────────────────────────────────────────────────────────────────────────────────\n",
      "     Validate metric           DataLoader 0\n",
      "────────────────────────────────────────────────────────────────────────────────────────────────────────────────────────\n",
      "        val_loss            2.2415292263031006\n",
      "   val_mean_rel_error       0.8999143838882446\n",
      "  val_median_rel_error      0.34885841608047485\n",
      "────────────────────────────────────────────────────────────────────────────────────────────────────────────────────────\n"
     ]
    },
    {
     "name": "stderr",
     "output_type": "stream",
     "text": [
      "Seed set to 999\n"
     ]
    },
    {
     "name": "stdout",
     "output_type": "stream",
     "text": [
      "Now handling layer size 128 with 4 layers\n"
     ]
    },
    {
     "name": "stderr",
     "output_type": "stream",
     "text": [
      "GPU available: True (mps), used: True\n",
      "TPU available: False, using: 0 TPU cores\n",
      "IPU available: False, using: 0 IPUs\n",
      "HPU available: False, using: 0 HPUs\n",
      "\n",
      "  | Name           | Type   | Params\n",
      "------------------------------------------\n",
      "0 | input_layer    | Linear | 384   \n",
      "1 | hidden_layer_1 | Linear | 16.5 K\n",
      "2 | hidden_layer_2 | Linear | 16.5 K\n",
      "3 | hidden_layer_3 | Linear | 16.5 K\n",
      "4 | hidden_layer_4 | Linear | 16.5 K\n",
      "5 | output_layer   | Linear | 129   \n",
      "------------------------------------------\n",
      "66.6 K    Trainable params\n",
      "0         Non-trainable params\n",
      "66.6 K    Total params\n",
      "0.266     Total estimated model params size (MB)\n"
     ]
    },
    {
     "name": "stdout",
     "output_type": "stream",
     "text": [
      "Epoch 33: 100%|██████████| 8/8 [00:00<00:00, 83.40it/s, v_num=10]           \n",
      "Validation DataLoader 0: 100%|██████████| 1/1 [00:00<00:00, 97.46it/s] \n",
      "────────────────────────────────────────────────────────────────────────────────────────────────────────────────────────\n",
      "     Validate metric           DataLoader 0\n",
      "────────────────────────────────────────────────────────────────────────────────────────────────────────────────────────\n",
      "        val_loss            2.1686086654663086\n",
      "   val_mean_rel_error       0.7603966593742371\n",
      "  val_median_rel_error      0.3622078597545624\n",
      "────────────────────────────────────────────────────────────────────────────────────────────────────────────────────────\n"
     ]
    },
    {
     "name": "stderr",
     "output_type": "stream",
     "text": [
      "Seed set to 999\n"
     ]
    },
    {
     "name": "stdout",
     "output_type": "stream",
     "text": [
      "Now handling layer size 128 with 5 layers\n"
     ]
    },
    {
     "name": "stderr",
     "output_type": "stream",
     "text": [
      "GPU available: True (mps), used: True\n",
      "TPU available: False, using: 0 TPU cores\n",
      "IPU available: False, using: 0 IPUs\n",
      "HPU available: False, using: 0 HPUs\n",
      "\n",
      "  | Name           | Type   | Params\n",
      "------------------------------------------\n",
      "0 | input_layer    | Linear | 384   \n",
      "1 | hidden_layer_1 | Linear | 16.5 K\n",
      "2 | hidden_layer_2 | Linear | 16.5 K\n",
      "3 | hidden_layer_3 | Linear | 16.5 K\n",
      "4 | hidden_layer_4 | Linear | 16.5 K\n",
      "5 | hidden_layer_5 | Linear | 16.5 K\n",
      "6 | output_layer   | Linear | 129   \n",
      "------------------------------------------\n",
      "83.1 K    Trainable params\n",
      "0         Non-trainable params\n",
      "83.1 K    Total params\n",
      "0.332     Total estimated model params size (MB)\n"
     ]
    },
    {
     "name": "stdout",
     "output_type": "stream",
     "text": [
      "Epoch 33: 100%|██████████| 8/8 [00:00<00:00, 75.71it/s, v_num=11]           \n",
      "Validation DataLoader 0: 100%|██████████| 1/1 [00:00<00:00, 96.87it/s] \n",
      "────────────────────────────────────────────────────────────────────────────────────────────────────────────────────────\n",
      "     Validate metric           DataLoader 0\n",
      "────────────────────────────────────────────────────────────────────────────────────────────────────────────────────────\n",
      "        val_loss             2.15889048576355\n",
      "   val_mean_rel_error       0.7834646701812744\n",
      "  val_median_rel_error      0.37603119015693665\n",
      "────────────────────────────────────────────────────────────────────────────────────────────────────────────────────────\n"
     ]
    },
    {
     "name": "stderr",
     "output_type": "stream",
     "text": [
      "Seed set to 999\n"
     ]
    },
    {
     "name": "stdout",
     "output_type": "stream",
     "text": [
      "WARNING: The best layer size was identified to be either the highest or lowest size tested for. Consider adding more options in that direction\n",
      "Now handling learning rate 0.001\n",
      "Now handling learning rate 0.0005\n"
     ]
    },
    {
     "name": "stderr",
     "output_type": "stream",
     "text": [
      "GPU available: True (mps), used: True\n",
      "TPU available: False, using: 0 TPU cores\n",
      "IPU available: False, using: 0 IPUs\n",
      "HPU available: False, using: 0 HPUs\n",
      "\n",
      "  | Name           | Type   | Params\n",
      "------------------------------------------\n",
      "0 | input_layer    | Linear | 96    \n",
      "1 | hidden_layer_1 | Linear | 1.1 K \n",
      "2 | hidden_layer_2 | Linear | 1.1 K \n",
      "3 | hidden_layer_3 | Linear | 1.1 K \n",
      "4 | output_layer   | Linear | 33    \n",
      "------------------------------------------\n",
      "3.3 K     Trainable params\n",
      "0         Non-trainable params\n",
      "3.3 K     Total params\n",
      "0.013     Total estimated model params size (MB)\n"
     ]
    },
    {
     "name": "stdout",
     "output_type": "stream",
     "text": [
      "Epoch 38: 100%|██████████| 8/8 [00:00<00:00, 90.58it/s, v_num=12]           \n",
      "Validation DataLoader 0: 100%|██████████| 1/1 [00:00<00:00, 93.18it/s] \n",
      "────────────────────────────────────────────────────────────────────────────────────────────────────────────────────────\n",
      "     Validate metric           DataLoader 0\n",
      "────────────────────────────────────────────────────────────────────────────────────────────────────────────────────────\n",
      "        val_loss            2.0457048416137695\n",
      "   val_mean_rel_error       0.7819406986236572\n",
      "  val_median_rel_error      0.33185166120529175\n",
      "────────────────────────────────────────────────────────────────────────────────────────────────────────────────────────\n"
     ]
    },
    {
     "name": "stderr",
     "output_type": "stream",
     "text": [
      "Seed set to 999\n"
     ]
    },
    {
     "name": "stdout",
     "output_type": "stream",
     "text": [
      "WARNING: The best learning rate was identified to be either the highest or lowest one tested for. Consider adding more options in that direction\n",
      "Now handling weight decay 8e-05\n",
      "Now handling weight decay 6e-05\n"
     ]
    },
    {
     "name": "stderr",
     "output_type": "stream",
     "text": [
      "GPU available: True (mps), used: True\n",
      "TPU available: False, using: 0 TPU cores\n",
      "IPU available: False, using: 0 IPUs\n",
      "HPU available: False, using: 0 HPUs\n",
      "\n",
      "  | Name           | Type   | Params\n",
      "------------------------------------------\n",
      "0 | input_layer    | Linear | 96    \n",
      "1 | hidden_layer_1 | Linear | 1.1 K \n",
      "2 | hidden_layer_2 | Linear | 1.1 K \n",
      "3 | hidden_layer_3 | Linear | 1.1 K \n",
      "4 | output_layer   | Linear | 33    \n",
      "------------------------------------------\n",
      "3.3 K     Trainable params\n",
      "0         Non-trainable params\n",
      "3.3 K     Total params\n",
      "0.013     Total estimated model params size (MB)\n"
     ]
    },
    {
     "name": "stdout",
     "output_type": "stream",
     "text": [
      "Epoch 34: 100%|██████████| 8/8 [00:00<00:00, 91.87it/s, v_num=13]           \n",
      "Validation DataLoader 0: 100%|██████████| 1/1 [00:00<00:00, 102.91it/s]\n",
      "────────────────────────────────────────────────────────────────────────────────────────────────────────────────────────\n",
      "     Validate metric           DataLoader 0\n",
      "────────────────────────────────────────────────────────────────────────────────────────────────────────────────────────\n",
      "        val_loss             2.03493332862854\n",
      "   val_mean_rel_error       0.8346711993217468\n",
      "  val_median_rel_error      0.3426867723464966\n",
      "────────────────────────────────────────────────────────────────────────────────────────────────────────────────────────\n"
     ]
    },
    {
     "name": "stderr",
     "output_type": "stream",
     "text": [
      "Seed set to 999\n"
     ]
    },
    {
     "name": "stdout",
     "output_type": "stream",
     "text": [
      "Now handling weight decay 0.0001\n"
     ]
    },
    {
     "name": "stderr",
     "output_type": "stream",
     "text": [
      "GPU available: True (mps), used: True\n",
      "TPU available: False, using: 0 TPU cores\n",
      "IPU available: False, using: 0 IPUs\n",
      "HPU available: False, using: 0 HPUs\n",
      "\n",
      "  | Name           | Type   | Params\n",
      "------------------------------------------\n",
      "0 | input_layer    | Linear | 96    \n",
      "1 | hidden_layer_1 | Linear | 1.1 K \n",
      "2 | hidden_layer_2 | Linear | 1.1 K \n",
      "3 | hidden_layer_3 | Linear | 1.1 K \n",
      "4 | output_layer   | Linear | 33    \n",
      "------------------------------------------\n",
      "3.3 K     Trainable params\n",
      "0         Non-trainable params\n",
      "3.3 K     Total params\n",
      "0.013     Total estimated model params size (MB)\n"
     ]
    },
    {
     "name": "stdout",
     "output_type": "stream",
     "text": [
      "Epoch 34: 100%|██████████| 8/8 [00:00<00:00, 86.11it/s, v_num=14]           \n",
      "Validation DataLoader 0: 100%|██████████| 1/1 [00:00<00:00, 83.96it/s] \n",
      "────────────────────────────────────────────────────────────────────────────────────────────────────────────────────────\n",
      "     Validate metric           DataLoader 0\n",
      "────────────────────────────────────────────────────────────────────────────────────────────────────────────────────────\n",
      "        val_loss            2.0349373817443848\n",
      "   val_mean_rel_error       0.8346853256225586\n",
      "  val_median_rel_error      0.3426707684993744\n",
      "────────────────────────────────────────────────────────────────────────────────────────────────────────────────────────\n",
      "WARNING: The best weight decay was identified to be either the highest or lowest one tested for. Consider adding more options in that direction\n"
     ]
    }
   ],
   "source": [
    "# Define which parameters are to be tuned in which way\n",
    "Tuning_Dict = {\n",
    "    'layer_size': [32, 64, 128],\n",
    "    'num_hidden_layers': [3, 4, 5],\n",
    "    'learning_rate': [0.001, 0.0005],\n",
    "    'weight_decay': [0.00008, 0.00006, 0.00010]\n",
    "    }\n",
    "\n",
    "best_params, results_dict = tune_model(train_data, val_data, test_data, Tuning_Dict, do_tuning=[True, True, True])"
   ]
  },
  {
   "cell_type": "code",
   "execution_count": 16,
   "metadata": {},
   "outputs": [
    {
     "name": "stdout",
     "output_type": "stream",
     "text": [
      "[32, 3, 0.001, 6e-05]\n"
     ]
    }
   ],
   "source": [
    "print(best_params)"
   ]
  },
  {
   "cell_type": "markdown",
   "metadata": {},
   "source": [
    "## Example for FoilModel loading a model from an existing checkpoint"
   ]
  },
  {
   "cell_type": "code",
   "execution_count": 11,
   "metadata": {},
   "outputs": [],
   "source": [
    "# Load the model\n",
    "scm = FoilModel('example.ckpt')\n",
    "\n",
    "# Evaluate the model at a certain point\n",
    "sample_val = scm[0.1, 0.2]"
   ]
  },
  {
   "cell_type": "markdown",
   "metadata": {},
   "source": [
    "## Example for loading a model and applying transfer learning"
   ]
  },
  {
   "cell_type": "code",
   "execution_count": 17,
   "metadata": {},
   "outputs": [],
   "source": [
    "# Generate a sample transfer set\n",
    "sample_transfer_data = np.random.random((580, 3))\n",
    "transfer_train = sample_transfer_data[:500]\n",
    "transfer_val = sample_transfer_data[500 : 530]\n",
    "transfer_test = sample_transfer_data[530:]"
   ]
  },
  {
   "cell_type": "code",
   "execution_count": 18,
   "metadata": {},
   "outputs": [
    {
     "name": "stderr",
     "output_type": "stream",
     "text": [
      "Seed set to 12346790\n",
      "GPU available: True (mps), used: True\n",
      "TPU available: False, using: 0 TPU cores\n",
      "IPU available: False, using: 0 IPUs\n",
      "HPU available: False, using: 0 HPUs\n",
      "\n",
      "  | Name           | Type   | Params\n",
      "------------------------------------------\n",
      "0 | input_layer    | Linear | 24    \n",
      "1 | hidden_layer_1 | Linear | 72    \n",
      "2 | hidden_layer_2 | Linear | 72    \n",
      "3 | hidden_layer_3 | Linear | 72    \n",
      "4 | output_layer   | Linear | 9     \n",
      "------------------------------------------\n",
      "249       Trainable params\n",
      "0         Non-trainable params\n",
      "249       Total params\n",
      "0.001     Total estimated model params size (MB)\n"
     ]
    },
    {
     "name": "stdout",
     "output_type": "stream",
     "text": [
      "                                                                           "
     ]
    },
    {
     "name": "stderr",
     "output_type": "stream",
     "text": [
      "/Users/lxd/Desktop/UTokyo/Work/Code/NN_investigations/Thesis_NN/lib/python3.9/site-packages/pytorch_lightning/trainer/connectors/data_connector.py:441: The 'val_dataloader' does not have many workers which may be a bottleneck. Consider increasing the value of the `num_workers` argument` to `num_workers=7` in the `DataLoader` to improve performance.\n",
      "/Users/lxd/Desktop/UTokyo/Work/Code/NN_investigations/Thesis_NN/lib/python3.9/site-packages/pytorch_lightning/trainer/connectors/data_connector.py:441: The 'train_dataloader' does not have many workers which may be a bottleneck. Consider increasing the value of the `num_workers` argument` to `num_workers=7` in the `DataLoader` to improve performance.\n",
      "/Users/lxd/Desktop/UTokyo/Work/Code/NN_investigations/Thesis_NN/lib/python3.9/site-packages/pytorch_lightning/loops/fit_loop.py:293: The number of training batches (8) is smaller than the logging interval Trainer(log_every_n_steps=50). Set a lower value for log_every_n_steps if you want to see logs for the training epoch.\n"
     ]
    },
    {
     "name": "stdout",
     "output_type": "stream",
     "text": [
      "Epoch 11: 100%|██████████| 8/8 [00:00<00:00, 93.69it/s, v_num=15] \n"
     ]
    }
   ],
   "source": [
    "# Load the model and apply transfer learning\n",
    "Params = {\n",
    "        \"batch_size\": 64,\n",
    "        \"learning_rate\": 0.01,\n",
    "        \"weight_decay\": 0.00008,\n",
    "        \"layer_size\": 8,\n",
    "        \"num_hidden_layers\": 3,\n",
    "        \"patience\": 10,\n",
    "        \"storage_directory\": None,\n",
    "        \"max_epochs\": 500,\n",
    "        \"seed\": 12346790\n",
    "        }\n",
    "\n",
    "scm = FoilModel('example.ckpt', transfer_train, transfer_val, transfer_test, Params)\n",
    "\n",
    "# Evaluate the model at a certain point\n",
    "sample_val = scm[0.1, 0.2]"
   ]
  },
  {
   "cell_type": "code",
   "execution_count": 20,
   "metadata": {},
   "outputs": [
    {
     "name": "stderr",
     "output_type": "stream",
     "text": [
      "Seed set to 12346790\n",
      "GPU available: True (mps), used: True\n",
      "TPU available: False, using: 0 TPU cores\n",
      "IPU available: False, using: 0 IPUs\n",
      "HPU available: False, using: 0 HPUs\n",
      "\n",
      "  | Name           | Type   | Params\n",
      "------------------------------------------\n",
      "0 | input_layer    | Linear | 24    \n",
      "1 | hidden_layer_1 | Linear | 72    \n",
      "2 | hidden_layer_2 | Linear | 72    \n",
      "3 | hidden_layer_3 | Linear | 72    \n",
      "4 | output_layer   | Linear | 9     \n",
      "------------------------------------------\n",
      "81        Trainable params\n",
      "168       Non-trainable params\n",
      "249       Total params\n",
      "0.001     Total estimated model params size (MB)\n"
     ]
    },
    {
     "name": "stdout",
     "output_type": "stream",
     "text": [
      "                                                                           "
     ]
    },
    {
     "name": "stderr",
     "output_type": "stream",
     "text": [
      "/Users/lxd/Desktop/UTokyo/Work/Code/NN_investigations/Thesis_NN/lib/python3.9/site-packages/pytorch_lightning/trainer/connectors/data_connector.py:441: The 'val_dataloader' does not have many workers which may be a bottleneck. Consider increasing the value of the `num_workers` argument` to `num_workers=7` in the `DataLoader` to improve performance.\n",
      "/Users/lxd/Desktop/UTokyo/Work/Code/NN_investigations/Thesis_NN/lib/python3.9/site-packages/pytorch_lightning/trainer/connectors/data_connector.py:441: The 'train_dataloader' does not have many workers which may be a bottleneck. Consider increasing the value of the `num_workers` argument` to `num_workers=7` in the `DataLoader` to improve performance.\n",
      "/Users/lxd/Desktop/UTokyo/Work/Code/NN_investigations/Thesis_NN/lib/python3.9/site-packages/pytorch_lightning/loops/fit_loop.py:293: The number of training batches (8) is smaller than the logging interval Trainer(log_every_n_steps=50). Set a lower value for log_every_n_steps if you want to see logs for the training epoch.\n"
     ]
    },
    {
     "name": "stdout",
     "output_type": "stream",
     "text": [
      "Epoch 11: 100%|██████████| 8/8 [00:00<00:00, 126.85it/s, v_num=16]\n"
     ]
    }
   ],
   "source": [
    "# Load the model and apply transfer learning with layer freezing\n",
    "Params = {\n",
    "        \"batch_size\": 64,\n",
    "        \"learning_rate\": 0.01,\n",
    "        \"weight_decay\": 0.00008,\n",
    "        \"layer_size\": 8,\n",
    "        \"num_hidden_layers\": 3,\n",
    "        \"patience\": 10,\n",
    "        \"storage_directory\": None,\n",
    "        \"max_epochs\": 500,\n",
    "        \"seed\": 12346790\n",
    "        }\n",
    "\n",
    "scm = FoilModel('example.ckpt', transfer_train, transfer_val, transfer_test, Params, frozen_layers=[1, 2])\n",
    "\n",
    "# Evaluate the model at a certain point\n",
    "sample_val = scm[0.1, 0.2]"
   ]
  },
  {
   "cell_type": "markdown",
   "metadata": {},
   "source": [
    "## Example for tuning the layer freezing in transfer learning"
   ]
  },
  {
   "cell_type": "code",
   "execution_count": 21,
   "metadata": {},
   "outputs": [
    {
     "name": "stderr",
     "output_type": "stream",
     "text": [
      "Seed set to 12346790\n",
      "GPU available: True (mps), used: True\n",
      "TPU available: False, using: 0 TPU cores\n",
      "IPU available: False, using: 0 IPUs\n",
      "HPU available: False, using: 0 HPUs\n",
      "\n",
      "  | Name           | Type   | Params\n",
      "------------------------------------------\n",
      "0 | input_layer    | Linear | 24    \n",
      "1 | hidden_layer_1 | Linear | 72    \n",
      "2 | hidden_layer_2 | Linear | 72    \n",
      "3 | hidden_layer_3 | Linear | 72    \n",
      "4 | output_layer   | Linear | 9     \n",
      "------------------------------------------\n",
      "249       Trainable params\n",
      "0         Non-trainable params\n",
      "249       Total params\n",
      "0.001     Total estimated model params size (MB)\n"
     ]
    },
    {
     "name": "stdout",
     "output_type": "stream",
     "text": [
      "                                                                           "
     ]
    },
    {
     "name": "stderr",
     "output_type": "stream",
     "text": [
      "/Users/lxd/Desktop/UTokyo/Work/Code/NN_investigations/Thesis_NN/lib/python3.9/site-packages/pytorch_lightning/trainer/connectors/data_connector.py:441: The 'val_dataloader' does not have many workers which may be a bottleneck. Consider increasing the value of the `num_workers` argument` to `num_workers=7` in the `DataLoader` to improve performance.\n",
      "/Users/lxd/Desktop/UTokyo/Work/Code/NN_investigations/Thesis_NN/lib/python3.9/site-packages/pytorch_lightning/trainer/connectors/data_connector.py:441: The 'train_dataloader' does not have many workers which may be a bottleneck. Consider increasing the value of the `num_workers` argument` to `num_workers=7` in the `DataLoader` to improve performance.\n",
      "/Users/lxd/Desktop/UTokyo/Work/Code/NN_investigations/Thesis_NN/lib/python3.9/site-packages/pytorch_lightning/loops/fit_loop.py:293: The number of training batches (8) is smaller than the logging interval Trainer(log_every_n_steps=50). Set a lower value for log_every_n_steps if you want to see logs for the training epoch.\n"
     ]
    },
    {
     "name": "stdout",
     "output_type": "stream",
     "text": [
      "Epoch 11: 100%|██████████| 8/8 [00:00<00:00, 89.90it/s, v_num=17] \n",
      "freeze: None\n",
      "median abs error [deg]:  10.541801121089021\n",
      "mean abs error [deg]:  13.606482029094149\n",
      "abs error variance [deg^2]:  80.6375942145486\n"
     ]
    },
    {
     "name": "stderr",
     "output_type": "stream",
     "text": [
      "Seed set to 12346790\n",
      "GPU available: True (mps), used: True\n",
      "TPU available: False, using: 0 TPU cores\n",
      "IPU available: False, using: 0 IPUs\n",
      "HPU available: False, using: 0 HPUs\n",
      "\n",
      "  | Name           | Type   | Params\n",
      "------------------------------------------\n",
      "0 | input_layer    | Linear | 24    \n",
      "1 | hidden_layer_1 | Linear | 72    \n",
      "2 | hidden_layer_2 | Linear | 72    \n",
      "3 | hidden_layer_3 | Linear | 72    \n",
      "4 | output_layer   | Linear | 9     \n",
      "------------------------------------------\n",
      "81        Trainable params\n",
      "168       Non-trainable params\n",
      "249       Total params\n",
      "0.001     Total estimated model params size (MB)\n"
     ]
    },
    {
     "name": "stdout",
     "output_type": "stream",
     "text": [
      "Epoch 11: 100%|██████████| 8/8 [00:00<00:00, 126.14it/s, v_num=18]          \n",
      "freeze: [1, 2, 3]\n",
      "median abs error [deg]:  10.53952581432176\n",
      "mean abs error [deg]:  13.507139716610228\n",
      "abs error variance [deg^2]:  79.28673576323507\n"
     ]
    },
    {
     "name": "stderr",
     "output_type": "stream",
     "text": [
      "Seed set to 12346790\n",
      "GPU available: True (mps), used: True\n",
      "TPU available: False, using: 0 TPU cores\n",
      "IPU available: False, using: 0 IPUs\n",
      "HPU available: False, using: 0 HPUs\n",
      "\n",
      "  | Name           | Type   | Params\n",
      "------------------------------------------\n",
      "0 | input_layer    | Linear | 24    \n",
      "1 | hidden_layer_1 | Linear | 72    \n",
      "2 | hidden_layer_2 | Linear | 72    \n",
      "3 | hidden_layer_3 | Linear | 72    \n",
      "4 | output_layer   | Linear | 9     \n",
      "------------------------------------------\n",
      "81        Trainable params\n",
      "168       Non-trainable params\n",
      "249       Total params\n",
      "0.001     Total estimated model params size (MB)\n"
     ]
    },
    {
     "name": "stdout",
     "output_type": "stream",
     "text": [
      "Epoch 11: 100%|██████████| 8/8 [00:00<00:00, 126.71it/s, v_num=19]          \n",
      "freeze: [1, 2]\n",
      "median abs error [deg]:  10.53952581432176\n",
      "mean abs error [deg]:  13.507139716610228\n",
      "abs error variance [deg^2]:  79.28673576323507\n"
     ]
    },
    {
     "name": "stderr",
     "output_type": "stream",
     "text": [
      "Seed set to 12346790\n",
      "GPU available: True (mps), used: True\n",
      "TPU available: False, using: 0 TPU cores\n",
      "IPU available: False, using: 0 IPUs\n",
      "HPU available: False, using: 0 HPUs\n",
      "\n",
      "  | Name           | Type   | Params\n",
      "------------------------------------------\n",
      "0 | input_layer    | Linear | 24    \n",
      "1 | hidden_layer_1 | Linear | 72    \n",
      "2 | hidden_layer_2 | Linear | 72    \n",
      "3 | hidden_layer_3 | Linear | 72    \n",
      "4 | output_layer   | Linear | 9     \n",
      "------------------------------------------\n",
      "153       Trainable params\n",
      "96        Non-trainable params\n",
      "249       Total params\n",
      "0.001     Total estimated model params size (MB)\n"
     ]
    },
    {
     "name": "stdout",
     "output_type": "stream",
     "text": [
      "Epoch 11: 100%|██████████| 8/8 [00:00<00:00, 109.66it/s, v_num=20]          \n",
      "freeze: [2, 3]\n",
      "median abs error [deg]:  10.543325107047579\n",
      "mean abs error [deg]:  13.540897471237072\n",
      "abs error variance [deg^2]:  79.73180771150045\n"
     ]
    },
    {
     "name": "stderr",
     "output_type": "stream",
     "text": [
      "Seed set to 12346790\n",
      "GPU available: True (mps), used: True\n",
      "TPU available: False, using: 0 TPU cores\n",
      "IPU available: False, using: 0 IPUs\n",
      "HPU available: False, using: 0 HPUs\n",
      "\n",
      "  | Name           | Type   | Params\n",
      "------------------------------------------\n",
      "0 | input_layer    | Linear | 24    \n",
      "1 | hidden_layer_1 | Linear | 72    \n",
      "2 | hidden_layer_2 | Linear | 72    \n",
      "3 | hidden_layer_3 | Linear | 72    \n",
      "4 | output_layer   | Linear | 9     \n",
      "------------------------------------------\n",
      "153       Trainable params\n",
      "96        Non-trainable params\n",
      "249       Total params\n",
      "0.001     Total estimated model params size (MB)\n"
     ]
    },
    {
     "name": "stdout",
     "output_type": "stream",
     "text": [
      "Epoch 11: 100%|██████████| 8/8 [00:00<00:00, 113.42it/s, v_num=21]          \n",
      "freeze: [1]\n",
      "median abs error [deg]:  10.537831927407597\n",
      "mean abs error [deg]:  13.58974493512425\n",
      "abs error variance [deg^2]:  80.41558368437784\n"
     ]
    },
    {
     "name": "stderr",
     "output_type": "stream",
     "text": [
      "Seed set to 12346790\n",
      "GPU available: True (mps), used: True\n",
      "TPU available: False, using: 0 TPU cores\n",
      "IPU available: False, using: 0 IPUs\n",
      "HPU available: False, using: 0 HPUs\n",
      "\n",
      "  | Name           | Type   | Params\n",
      "------------------------------------------\n",
      "0 | input_layer    | Linear | 24    \n",
      "1 | hidden_layer_1 | Linear | 72    \n",
      "2 | hidden_layer_2 | Linear | 72    \n",
      "3 | hidden_layer_3 | Linear | 72    \n",
      "4 | output_layer   | Linear | 9     \n",
      "------------------------------------------\n",
      "153       Trainable params\n",
      "96        Non-trainable params\n",
      "249       Total params\n",
      "0.001     Total estimated model params size (MB)\n"
     ]
    },
    {
     "name": "stdout",
     "output_type": "stream",
     "text": [
      "Epoch 11: 100%|██████████| 8/8 [00:00<00:00, 115.07it/s, v_num=22]          \n",
      "freeze: [2]\n",
      "median abs error [deg]:  10.543325107047579\n",
      "mean abs error [deg]:  13.540897471237072\n",
      "abs error variance [deg^2]:  79.73180771150045\n"
     ]
    },
    {
     "name": "stderr",
     "output_type": "stream",
     "text": [
      "Seed set to 12346790\n",
      "GPU available: True (mps), used: True\n",
      "TPU available: False, using: 0 TPU cores\n",
      "IPU available: False, using: 0 IPUs\n",
      "HPU available: False, using: 0 HPUs\n",
      "\n",
      "  | Name           | Type   | Params\n",
      "------------------------------------------\n",
      "0 | input_layer    | Linear | 24    \n",
      "1 | hidden_layer_1 | Linear | 72    \n",
      "2 | hidden_layer_2 | Linear | 72    \n",
      "3 | hidden_layer_3 | Linear | 72    \n",
      "4 | output_layer   | Linear | 9     \n",
      "------------------------------------------\n",
      "225       Trainable params\n",
      "24        Non-trainable params\n",
      "249       Total params\n",
      "0.001     Total estimated model params size (MB)\n"
     ]
    },
    {
     "name": "stdout",
     "output_type": "stream",
     "text": [
      "Epoch 11: 100%|██████████| 8/8 [00:00<00:00, 96.35it/s, v_num=23]           \n",
      "freeze: [3]\n",
      "median abs error [deg]:  10.542058960730188\n",
      "mean abs error [deg]:  13.60497955823148\n",
      "abs error variance [deg^2]:  80.6368588399634\n",
      "best freezeer:  [1]\n"
     ]
    }
   ],
   "source": [
    "possible_freezers = [None, [1, 2, 3], [1, 2], [2, 3], [1], [2], [3]]\n",
    "Params = {\n",
    "        \"batch_size\": 64,\n",
    "        \"learning_rate\": 0.01,\n",
    "        \"weight_decay\": 0.00008,\n",
    "        \"layer_size\": 8,\n",
    "        \"num_hidden_layers\": 3,\n",
    "        \"patience\": 10,\n",
    "        \"storage_directory\": None,\n",
    "        \"max_epochs\": 500,\n",
    "        \"seed\": 12346790\n",
    "        }\n",
    "\n",
    "results = []\n",
    "\n",
    "for freeze in possible_freezers:\n",
    "    scm = FoilModel('example.ckpt', transfer_train, transfer_val, transfer_test, Params, frozen_layers=freeze)\n",
    "    targets = val_data[:, -1]\n",
    "    scm_predictions = scm[val_data[:, :-1]]\n",
    "\n",
    "    # Make sure to evaluate the performance on the VALIDATION set for tuning\n",
    "    # Use either relative or absolute errors, depending on what is more applicable\n",
    "    abs_errors = np.abs(targets - scm_predictions) * 180 / np.pi\n",
    "    print('freeze:', freeze)\n",
    "    print('median abs error [deg]: ', np.median(abs_errors))\n",
    "    print('mean abs error [deg]: ', np.mean(abs_errors))\n",
    "    print('abs error variance [deg^2]: ', np.var(abs_errors))\n",
    "\n",
    "    results.append([np.median(abs_errors), np.mean(abs_errors), np.var(abs_errors)])\n",
    "\n",
    "print(\"best freezeer: \", possible_freezers[np.argmin(np.array(results)[:, 0])])"
   ]
  },
  {
   "cell_type": "code",
   "execution_count": null,
   "metadata": {},
   "outputs": [],
   "source": []
  }
 ],
 "metadata": {
  "kernelspec": {
   "display_name": "Thesis_NN",
   "language": "python",
   "name": "python3"
  },
  "language_info": {
   "codemirror_mode": {
    "name": "ipython",
    "version": 3
   },
   "file_extension": ".py",
   "mimetype": "text/x-python",
   "name": "python",
   "nbconvert_exporter": "python",
   "pygments_lexer": "ipython3",
   "version": "3.9.13"
  }
 },
 "nbformat": 4,
 "nbformat_minor": 2
}
